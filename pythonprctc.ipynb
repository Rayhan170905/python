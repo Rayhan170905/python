{
  "nbformat": 4,
  "nbformat_minor": 0,
  "metadata": {
    "colab": {
      "provenance": [],
      "authorship_tag": "ABX9TyOE5J9h1TARpjXO7DsVoGB/",
      "include_colab_link": true
    },
    "kernelspec": {
      "name": "python3",
      "display_name": "Python 3"
    },
    "language_info": {
      "name": "python"
    }
  },
  "cells": [
    {
      "cell_type": "markdown",
      "metadata": {
        "id": "view-in-github",
        "colab_type": "text"
      },
      "source": [
        "<a href=\"https://colab.research.google.com/github/Rayhan170905/python/blob/main/pythonprctc.ipynb\" target=\"_parent\"><img src=\"https://colab.research.google.com/assets/colab-badge.svg\" alt=\"Open In Colab\"/></a>"
      ]
    },
    {
      "cell_type": "code",
      "execution_count": null,
      "metadata": {
        "id": "lQaS_NXkBnUc"
      },
      "outputs": [],
      "source": [
        "a=int(input())\n",
        "b=int(input())\n",
        "print(a+b)"
      ]
    },
    {
      "cell_type": "code",
      "source": [
        "a=int(input(\"Enter the first number\"))\n",
        "b=int(input(\"Enter the second element\"))\n",
        "if a>b:\n",
        "  print(\"A is greater than B\")\n",
        "elif a<b:\n",
        "  print(\"A is lesser than B\")\n",
        "if a==b:\n",
        "  print(\"A and B are equal\")\n",
        "elif a!=b:\n",
        "  print(\"A and B are not equal\")"
      ],
      "metadata": {
        "id": "7IBNkPLIFiVk"
      },
      "execution_count": null,
      "outputs": []
    },
    {
      "cell_type": "code",
      "source": [
        "number=int(input())\n",
        "print(\"Multiplication Table for\",number,\":\")\n",
        "for i in range(1,11):\n",
        "  result=number*i\n",
        "  print(f\"{number}x{i}={result}\")"
      ],
      "metadata": {
        "colab": {
          "base_uri": "https://localhost:8080/"
        },
        "id": "sZzG0o6NKoFG",
        "outputId": "a5839037-9feb-4593-b60b-6797b9952e60"
      },
      "execution_count": 10,
      "outputs": [
        {
          "output_type": "stream",
          "name": "stdout",
          "text": [
            "5\n",
            "Multiplication Table for 5 :\n",
            "5x1=5\n",
            "5x2=10\n",
            "5x3=15\n",
            "5x4=20\n",
            "5x5=25\n",
            "5x6=30\n",
            "5x7=35\n",
            "5x8=40\n",
            "5x9=45\n",
            "5x10=50\n"
          ]
        }
      ]
    }
  ]
}